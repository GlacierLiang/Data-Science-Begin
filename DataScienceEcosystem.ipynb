{
 "cells": [
  {
   "cell_type": "markdown",
   "id": "18b76598-417b-43f2-a7ba-a2aea4d02b6b",
   "metadata": {},
   "source": [
    "# Data Science Tools and Ecosystem\n",
    "\n",
    "### In this notebook, Data Science Tools and Ecosystem are summarized.\n",
    "\n",
    "## Author\n",
    "Xiaoyue Liang"
   ]
  },
  {
   "cell_type": "markdown",
   "id": "e9edf5fd-4636-49ca-a913-a3bff4486d5c",
   "metadata": {},
   "source": [
    "List popular languages for Data Science\n",
    "- R\n",
    "- Python\n",
    "- JavaScript\n",
    "- Java"
   ]
  },
  {
   "cell_type": "markdown",
   "id": "1d576700-b670-443f-9973-9644f86fc045",
   "metadata": {},
   "source": [
    "### Some of the popular languages that Data Scientists use are:\n",
    "    1. R\n",
    "    2. Python\n",
    "    3. JavaScript\n",
    "\n",
    "### Some of the commonly used libraries used by Data Scientists include:\n",
    "    1. NumPy\n",
    "    2. Pandas\n",
    "    3. Seaborn\n",
    "\n",
    "| Data Science Tools|\n",
    "| -------------|\n",
    "| Pandas |\n",
    "| Hadoop |\n",
    "| GGPLOT2 |\n",
    "\n",
    "### Below are a few examples of evaluating arithmetic expressions in Python\n",
    "\n",
    "This a simple arithmetic expression to mutiply then add integers"
   ]
  },
  {
   "cell_type": "code",
   "execution_count": 1,
   "id": "5cec36f4-3354-4100-996e-5bd96c7d2c2a",
   "metadata": {
    "tags": []
   },
   "outputs": [
    {
     "data": {
      "text/plain": [
       "17"
      ]
     },
     "execution_count": 1,
     "metadata": {},
     "output_type": "execute_result"
    }
   ],
   "source": [
    "(3*4)+5"
   ]
  },
  {
   "cell_type": "markdown",
   "id": "87441cca-bc0b-4cae-9f29-54a82331db78",
   "metadata": {},
   "source": [
    "This will convert 200 minutes to hours by diving by 60"
   ]
  },
  {
   "cell_type": "code",
   "execution_count": 3,
   "id": "ed308bd3-02d8-428b-91ca-32f225c1545a",
   "metadata": {
    "tags": []
   },
   "outputs": [
    {
     "data": {
      "text/plain": [
       "3"
      ]
     },
     "execution_count": 3,
     "metadata": {},
     "output_type": "execute_result"
    }
   ],
   "source": [
    "minutes = 200\n",
    "hours = 200 // 60\n",
    "hours"
   ]
  }
 ],
 "metadata": {
  "kernelspec": {
   "display_name": "Python",
   "language": "python",
   "name": "conda-env-python-py"
  },
  "language_info": {
   "codemirror_mode": {
    "name": "ipython",
    "version": 3
   },
   "file_extension": ".py",
   "mimetype": "text/x-python",
   "name": "python",
   "nbconvert_exporter": "python",
   "pygments_lexer": "ipython3",
   "version": "3.7.12"
  }
 },
 "nbformat": 4,
 "nbformat_minor": 5
}
